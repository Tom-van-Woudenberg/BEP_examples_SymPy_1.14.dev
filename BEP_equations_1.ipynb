{
 "cells": [
  {
   "cell_type": "markdown",
   "id": "f2aeddaf",
   "metadata": {},
   "source": [
    "# Equations 1"
   ]
  },
  {
   "cell_type": "code",
   "execution_count": 1,
   "id": "initial_id",
   "metadata": {
    "ExecuteTime": {
     "end_time": "2024-06-21T10:14:15.302186900Z",
     "start_time": "2024-06-21T10:14:13.945124300Z"
    }
   },
   "outputs": [],
   "source": [ 
    "import sympy as sm\n",
    "from sympy.physics.continuum_mechanics.beam import Beam"
   ]
  },
  {
   "cell_type": "code",
   "execution_count": 2,
   "id": "c56d66d52d4d4933",
   "metadata": {
    "ExecuteTime": {
     "end_time": "2024-06-19T19:36:44.313289500Z",
     "start_time": "2024-06-19T19:36:44.049771400Z"
    },
    "collapsed": false,
    "jupyter": {
     "outputs_hidden": false
    }
   },
   "outputs": [],
   "source": [
    "E = sm.Symbol('E')\n",
    "I = sm.Symbol('I')\n",
    "b = Beam(10, E, I)\n",
    "r0 = b.apply_support(0, type=\"pin\")\n",
    "r10 = b.apply_support(10, type=\"pin\")\n",
    "b.solve_for_ild_reactions(-1, r0, r10)"
   ]
  },
  {
   "cell_type": "code",
   "execution_count": 3,
   "id": "85700b43080c8bf0",
   "metadata": {
    "collapsed": false,
    "jupyter": {
     "outputs_hidden": false
    }
   },
   "outputs": [
    {
     "data": {
      "text/plain": [
       "{R_0: SingularityFunction(a, 0, 0) - SingularityFunction(a, 0, 1)/10 + SingularityFunction(a, 10, 1)/10,\n",
       " R_10: SingularityFunction(a, 0, 1)/10 - SingularityFunction(a, 10, 0) - SingularityFunction(a, 10, 1)/10}"
      ]
     },
     "execution_count": 3,
     "metadata": {},
     "output_type": "execute_result"
    }
   ],
   "source": [
    "b.ild_reactions"
   ]
  },
  {
   "cell_type": "code",
   "execution_count": 4,
   "id": "89a07b1a-6679-46e0-86ab-6c78d754f76c",
   "metadata": {},
   "outputs": [
    {
     "data": {
      "text/latex": [
       "$\\displaystyle {\\left\\langle a \\right\\rangle}^{0} - \\frac{{\\left\\langle a \\right\\rangle}^{1}}{10} + \\frac{{\\left\\langle a - 10 \\right\\rangle}^{1}}{10}$"
      ],
      "text/plain": [
       "SingularityFunction(a, 0, 0) - SingularityFunction(a, 0, 1)/10 + SingularityFunction(a, 10, 1)/10"
      ]
     },
     "execution_count": 4,
     "metadata": {},
     "output_type": "execute_result"
    }
   ],
   "source": [
    "b.ild_reactions[r0]"
   ]
  },
  {
   "cell_type": "code",
   "execution_count": 5,
   "id": "19284df3-852c-4dda-897e-7ce22c56f323",
   "metadata": {},
   "outputs": [
    {
     "data": {
      "text/latex": [
       "$\\displaystyle \\frac{{\\left\\langle a \\right\\rangle}^{1}}{10} - {\\left\\langle a - 10 \\right\\rangle}^{0} - \\frac{{\\left\\langle a - 10 \\right\\rangle}^{1}}{10}$"
      ],
      "text/plain": [
       "SingularityFunction(a, 0, 1)/10 - SingularityFunction(a, 10, 0) - SingularityFunction(a, 10, 1)/10"
      ]
     },
     "execution_count": 5,
     "metadata": {},
     "output_type": "execute_result"
    }
   ],
   "source": [
    "b.ild_reactions[r10]"
   ]
  }
 ],
 "metadata": {
  "kernelspec": {
   "display_name": "Python 3 (ipykernel)",
   "language": "python",
   "name": "python3"
  },
  "language_info": {
   "codemirror_mode": {
    "name": "ipython",
    "version": 3
   },
   "file_extension": ".py",
   "mimetype": "text/x-python",
   "name": "python",
   "nbconvert_exporter": "python",
   "pygments_lexer": "ipython3",
   "version": "3.11.9"
  }
 },
 "nbformat": 4,
 "nbformat_minor": 5
}
