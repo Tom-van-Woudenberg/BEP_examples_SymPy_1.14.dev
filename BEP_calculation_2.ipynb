{
 "cells": [
  {
   "cell_type": "code",
   "execution_count": 1,
   "id": "initial_id",
   "metadata": {
    "ExecuteTime": {
     "end_time": "2024-06-14T14:14:41.564371600Z",
     "start_time": "2024-06-14T14:14:41.537865600Z"
    }
   },
   "outputs": [],
   "source": [
    "import sympy as sm\n",
    "from sympy.physics.continuum_mechanics.beam import Beam"
   ]
  },
  {
   "cell_type": "code",
   "execution_count": 2,
   "id": "a741abb25226a0e8",
   "metadata": {
    "collapsed": false,
    "jupyter": {
     "outputs_hidden": false
    }
   },
   "outputs": [],
   "source": [
    "E = sm.Symbol('E')\n",
    "I = sm.Symbol('I')\n",
    "F = sm.Symbol('F')\n",
    "x = sm.Symbol('x')\n",
    "b = Beam(10, E, I)\n",
    "r0, m0 = b.apply_support(0, type=\"fixed\")\n",
    "r10, m10 = b.apply_support(10, type=\"fixed\")\n",
    "b.apply_rotation_hinge(5)\n",
    "b.apply_load(-F, 5, -1)"
   ]
  },
  {
   "cell_type": "code",
   "execution_count": 3,
   "id": "2f3bad9f-402d-43ed-bb06-e776d9885aa7",
   "metadata": {},
   "outputs": [
    {
     "data": {
      "text/latex": [
       "$\\displaystyle E I P_{5} {\\left\\langle x - 5 \\right\\rangle}^{-3} - F {\\left\\langle x - 5 \\right\\rangle}^{-1} + M_{0} {\\left\\langle x \\right\\rangle}^{-2} + M_{10} {\\left\\langle x - 10 \\right\\rangle}^{-2} + R_{0} {\\left\\langle x \\right\\rangle}^{-1} + R_{10} {\\left\\langle x - 10 \\right\\rangle}^{-1}$"
      ],
      "text/plain": [
       "E*I*P_5*SingularityFunction(x, 5, -3) - F*SingularityFunction(x, 5, -1) + M_0*SingularityFunction(x, 0, -2) + M_10*SingularityFunction(x, 10, -2) + R_0*SingularityFunction(x, 0, -1) + R_10*SingularityFunction(x, 10, -1)"
      ]
     },
     "execution_count": 3,
     "metadata": {},
     "output_type": "execute_result"
    }
   ],
   "source": [
    "b.load"
   ]
  },
  {
   "cell_type": "code",
   "execution_count": 4,
   "id": "fda7372c-1027-4cfe-9233-8fb412e71d66",
   "metadata": {},
   "outputs": [
    {
     "data": {
      "text/latex": [
       "$\\displaystyle - E I P_{5} {\\left\\langle x - 5 \\right\\rangle}^{-1} + F {\\left\\langle x - 5 \\right\\rangle}^{1} - M_{0} {\\left\\langle x \\right\\rangle}^{0} - M_{10} {\\left\\langle x - 10 \\right\\rangle}^{0} - R_{0} {\\left\\langle x \\right\\rangle}^{1} - R_{10} {\\left\\langle x - 10 \\right\\rangle}^{1}$"
      ],
      "text/plain": [
       "-E*I*P_5*SingularityFunction(x, 5, -1) + F*SingularityFunction(x, 5, 1) - M_0*SingularityFunction(x, 0, 0) - M_10*SingularityFunction(x, 10, 0) - R_0*SingularityFunction(x, 0, 1) - R_10*SingularityFunction(x, 10, 1)"
      ]
     },
     "execution_count": 4,
     "metadata": {},
     "output_type": "execute_result"
    }
   ],
   "source": [
    "b.bending_moment()"
   ]
  },
  {
   "cell_type": "code",
   "execution_count": 5,
   "id": "60bae7ff-98dd-4798-b95c-e311998b91ec",
   "metadata": {},
   "outputs": [
    {
     "data": {
      "text/latex": [
       "$\\displaystyle - \\infty E I P_{5} - M_{0} - 5 R_{0}$"
      ],
      "text/plain": [
       "-oo*E*I*P_5 - M_0 - 5*R_0"
      ]
     },
     "execution_count": 5,
     "metadata": {},
     "output_type": "execute_result"
    }
   ],
   "source": [
    "b.bending_moment().subs(x, 5)"
   ]
  }
 ],
 "metadata": {
  "kernelspec": {
   "display_name": "Python 3 (ipykernel)",
   "language": "python",
   "name": "python3"
  },
  "language_info": {
   "codemirror_mode": {
    "name": "ipython",
    "version": 3
   },
   "file_extension": ".py",
   "mimetype": "text/x-python",
   "name": "python",
   "nbconvert_exporter": "python",
   "pygments_lexer": "ipython3",
   "version": "3.11.9"
  }
 },
 "nbformat": 4,
 "nbformat_minor": 5
}
